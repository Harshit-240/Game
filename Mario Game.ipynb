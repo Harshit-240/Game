{
 "cells": [
  {
   "cell_type": "code",
   "execution_count": 1,
   "id": "1145133d",
   "metadata": {},
   "outputs": [
    {
     "name": "stdout",
     "output_type": "stream",
     "text": [
      "Player Name:-  Mario\n",
      "Initial Score:-  0\n",
      "Initial Life:-  3\n"
     ]
    }
   ],
   "source": [
    "class character():\n",
    "    def __init__(self,name):\n",
    "        self.name=name\n",
    "        self.__score=0\n",
    "        self.__life=3\n",
    "        \n",
    "    \n",
    "    def displaylife(self):\n",
    "        return self.__life\n",
    "    def displayscore(self):\n",
    "        return self.__score\n",
    "    def punch(self):\n",
    "        self.__score=self.__score +5\n",
    "    def kick(self):\n",
    "        self.__score=self.__score +10\n",
    "    def stabbed(self):\n",
    "        self.__life=self.__life - 1\n",
    "    \n",
    "    def intro(self):\n",
    "        print(\"Player Name:- \",self.name)\n",
    "        print(\"Initial Score:- \",self.displayscore())\n",
    "        print(\"Initial Life:- \",self.displaylife())\n",
    "    \n",
    "\n",
    "mario=character(\"Mario\")\n",
    "mario.intro()\n"
   ]
  },
  {
   "cell_type": "code",
   "execution_count": null,
   "id": "56f881f2",
   "metadata": {},
   "outputs": [],
   "source": []
  }
 ],
 "metadata": {
  "kernelspec": {
   "display_name": "Python 3 (ipykernel)",
   "language": "python",
   "name": "python3"
  },
  "language_info": {
   "codemirror_mode": {
    "name": "ipython",
    "version": 3
   },
   "file_extension": ".py",
   "mimetype": "text/x-python",
   "name": "python",
   "nbconvert_exporter": "python",
   "pygments_lexer": "ipython3",
   "version": "3.9.12"
  }
 },
 "nbformat": 4,
 "nbformat_minor": 5
}
